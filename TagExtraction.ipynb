{
  "nbformat": 4,
  "nbformat_minor": 0,
  "metadata": {
    "colab": {
      "provenance": []
    },
    "kernelspec": {
      "name": "python3",
      "display_name": "Python 3"
    },
    "language_info": {
      "name": "python"
    }
  },
  "cells": [
    {
      "cell_type": "code",
      "execution_count": null,
      "metadata": {
        "colab": {
          "base_uri": "https://localhost:8080/",
          "height": 360
        },
        "id": "vrVp3XED3GOG",
        "outputId": "a4690a8f-48a0-42c0-bc8f-5759638f1539"
      },
      "outputs": [
        {
          "output_type": "error",
          "ename": "TclError",
          "evalue": "no display name and no $DISPLAY environment variable",
          "traceback": [
            "\u001b[0;31m---------------------------------------------------------------------------\u001b[0m",
            "\u001b[0;31mTclError\u001b[0m                                  Traceback (most recent call last)",
            "\u001b[0;32m<ipython-input-24-bfdde19f1075>\u001b[0m in \u001b[0;36m<cell line: 13>\u001b[0;34m()\u001b[0m\n\u001b[1;32m     11\u001b[0m \u001b[0;34m\u001b[0m\u001b[0m\n\u001b[1;32m     12\u001b[0m \u001b[0;31m# Create a simple GUI to get input file and output file paths\u001b[0m\u001b[0;34m\u001b[0m\u001b[0;34m\u001b[0m\u001b[0m\n\u001b[0;32m---> 13\u001b[0;31m \u001b[0mroot\u001b[0m \u001b[0;34m=\u001b[0m \u001b[0mtk\u001b[0m\u001b[0;34m.\u001b[0m\u001b[0mTk\u001b[0m\u001b[0;34m(\u001b[0m\u001b[0;34m)\u001b[0m\u001b[0;34m\u001b[0m\u001b[0;34m\u001b[0m\u001b[0m\n\u001b[0m\u001b[1;32m     14\u001b[0m \u001b[0mroot\u001b[0m\u001b[0;34m.\u001b[0m\u001b[0mwithdraw\u001b[0m\u001b[0;34m(\u001b[0m\u001b[0;34m)\u001b[0m \u001b[0;31m# Hide the main window\u001b[0m\u001b[0;34m\u001b[0m\u001b[0;34m\u001b[0m\u001b[0m\n\u001b[1;32m     15\u001b[0m \u001b[0mplant_code\u001b[0m \u001b[0;34m=\u001b[0m \u001b[0msimpledialog\u001b[0m\u001b[0;34m.\u001b[0m\u001b[0maskstring\u001b[0m \u001b[0;34m(\u001b[0m\u001b[0;34m\"Enter Plant Code\"\u001b[0m\u001b[0;34m,\u001b[0m \u001b[0;34m\"Enter Plant\"\u001b[0m\u001b[0;34m,\u001b[0m \u001b[0mparent\u001b[0m\u001b[0;34m=\u001b[0m\u001b[0mroot\u001b[0m\u001b[0;34m)\u001b[0m\u001b[0;34m\u001b[0m\u001b[0;34m\u001b[0m\u001b[0m\n",
            "\u001b[0;32m/usr/lib/python3.10/tkinter/__init__.py\u001b[0m in \u001b[0;36m__init__\u001b[0;34m(self, screenName, baseName, className, useTk, sync, use)\u001b[0m\n\u001b[1;32m   2297\u001b[0m                 \u001b[0mbaseName\u001b[0m \u001b[0;34m=\u001b[0m \u001b[0mbaseName\u001b[0m \u001b[0;34m+\u001b[0m \u001b[0mext\u001b[0m\u001b[0;34m\u001b[0m\u001b[0;34m\u001b[0m\u001b[0m\n\u001b[1;32m   2298\u001b[0m         \u001b[0minteractive\u001b[0m \u001b[0;34m=\u001b[0m \u001b[0;32mFalse\u001b[0m\u001b[0;34m\u001b[0m\u001b[0;34m\u001b[0m\u001b[0m\n\u001b[0;32m-> 2299\u001b[0;31m         \u001b[0mself\u001b[0m\u001b[0;34m.\u001b[0m\u001b[0mtk\u001b[0m \u001b[0;34m=\u001b[0m \u001b[0m_tkinter\u001b[0m\u001b[0;34m.\u001b[0m\u001b[0mcreate\u001b[0m\u001b[0;34m(\u001b[0m\u001b[0mscreenName\u001b[0m\u001b[0;34m,\u001b[0m \u001b[0mbaseName\u001b[0m\u001b[0;34m,\u001b[0m \u001b[0mclassName\u001b[0m\u001b[0;34m,\u001b[0m \u001b[0minteractive\u001b[0m\u001b[0;34m,\u001b[0m \u001b[0mwantobjects\u001b[0m\u001b[0;34m,\u001b[0m \u001b[0museTk\u001b[0m\u001b[0;34m,\u001b[0m \u001b[0msync\u001b[0m\u001b[0;34m,\u001b[0m \u001b[0muse\u001b[0m\u001b[0;34m)\u001b[0m\u001b[0;34m\u001b[0m\u001b[0;34m\u001b[0m\u001b[0m\n\u001b[0m\u001b[1;32m   2300\u001b[0m         \u001b[0;32mif\u001b[0m \u001b[0museTk\u001b[0m\u001b[0;34m:\u001b[0m\u001b[0;34m\u001b[0m\u001b[0;34m\u001b[0m\u001b[0m\n\u001b[1;32m   2301\u001b[0m             \u001b[0mself\u001b[0m\u001b[0;34m.\u001b[0m\u001b[0m_loadtk\u001b[0m\u001b[0;34m(\u001b[0m\u001b[0;34m)\u001b[0m\u001b[0;34m\u001b[0m\u001b[0;34m\u001b[0m\u001b[0m\n",
            "\u001b[0;31mTclError\u001b[0m: no display name and no $DISPLAY environment variable"
          ]
        }
      ],
      "source": [
        "#Let's create a Python script using **PyPDF2** to achieve the\n",
        "\n",
        "import os\n",
        "import csv\n",
        "import pandas as pd\n",
        "import PyPDF2\n",
        "from tqdm import tqdm\n",
        "# Import tgdm for progress tracking\n",
        "import tkinter as tk\n",
        "from tkinter import filedialog, simpledialog\n",
        "\n",
        "# Create a simple GUI to get input file and output file paths\n",
        "root = tk.Tk()\n",
        "root.withdraw() # Hide the main window\n",
        "plant_code = simpledialog.askstring (\"Enter Plant Code\", \"Enter Plant\", parent=root)\n",
        "# Now 'in_csv_file' contains the user's input\n",
        "# Get input file path\n",
        "input_file = filedialog.askopenfilename(title=\"Select Input MTR File\", filetypes=[(\"All Files\", \"*.*\")])\n",
        "# Get output file path\n",
        "output_file= filedialog.asksaveasfilename(title=\"Select Output File\",defaultextension=\".xlsx\",filetypes=[\"Excel File\",\"*.xlsx\"])\n",
        "\n",
        "# Ask user for the input file name\n",
        "# input_file = input (\"Enter the name of the CSV file (e.g., tag_list.csv): *)\n",
        "# Step 1: Read the reference file (tag.csv)\n",
        "reference_tags = set()\n",
        "with open(input_file, 'r') as csvfile:\n",
        "\treader = csv.reader(csvfile)\n",
        "\tnext(reader)\n",
        "\tfor row in reader:\n",
        "\t\t\treference_tags. add (row[0]) # Assuming the tag is in the first column\n",
        "\n",
        "# Step 2: Search for reference tags in PDF files\n",
        "pdf_folder = 'pdf/'\n",
        "output_data = []\n",
        "\n",
        "for filename in os. listdir(pdf_folder):\n",
        "\t\tif filename.lower ().endswith ('.pdf') :\n",
        "\t\t\tpdf_path = os.path.join(pdf_folder,filename)\n",
        "\t\t\twith open (pdf_path,'rb') as pdf_file:\n",
        "\t\t\t    pdf_reader = PyPDF2.PdfReader(pdf_file)\n",
        "\t\t\t    pdf_text = ''\n",
        "\t\t\t    for page in pdf_reader.pages:\n",
        "\t\t\t\t\t    pdf_text += page.extract_text()\n",
        "\n",
        "\n",
        "# Check if any reference tags are found\n",
        "tags_found = [tag for tag in reference_tags if tag.lower() in pdf_text.lower()]\n",
        "tag_found_status = 'Yes' if tags_found else 'No'\n",
        "\n",
        "for tag in tags_found:\n",
        "\t  output_data.append({\n",
        "\t\t\t\t'PLANT_CODE': plant_code,\n",
        "\t\t\t\t'Filemame' : filename,\n",
        "\t\t\t\t'Tag Name Found': tag,\n",
        "\t\t\t\t'Tag Found (Yes/No) ': tag_found_status\n",
        "\t})\n",
        "# Update progress bar for each PDF file\n",
        "tqdm.write (f\"Processed: {filename}\")\n",
        "# Step 3: Generate an Excel export report\n",
        "# output_file = input (\"Enter the name of the Excel file (e.g., export_report. xlgx) : \")\n",
        "df = pd.DataFrame(output_data)\n",
        "df.to_excel (output_file, index = False)\n",
        "print (\"Export report generated successfully.\")\n"
      ]
    },
    {
      "source": [
        "#Let's create a Python script using **PyPDF2** to achieve the\n",
        "\n",
        "import os\n",
        "import csv\n",
        "import pandas as pd\n",
        "import PyPDF2\n",
        "from tqdm import tqdm\n",
        "\n",
        "# Ask user for the input file name\n",
        "input_file = input(\"Enter the name of the CSV file (e.g., tag_list.csv): \")\n",
        "# Ask user for the plant code\n",
        "plant_code = input(\"Enter Plant Code: \")\n",
        "# Ask user for the output file name\n",
        "output_file = input(\"Enter the name of the Excel file (e.g., export_report.xlsx): \")\n",
        "\n",
        "# Step 1: Read the reference file (tag.csv)\n",
        "reference_tags = set()\n",
        "with open(input_file, 'r') as csvfile:\n",
        "    reader = csv.reader(csvfile)\n",
        "    next(reader)\n",
        "    for row in reader:\n",
        "        reference_tags.add(row[0])  # Assuming the tag is in the first column\n",
        "\n",
        "# Step 2: Search for reference tags in PDF files\n",
        "pdf_folder = 'pdf/'\n",
        "output_data = []\n",
        "\n",
        "for filename in os.listdir(pdf_folder):\n",
        "    if filename.lower().endswith('.pdf'):\n",
        "        pdf_path = os.path.join(pdf_folder, filename)\n",
        "        with open(pdf_path, 'rb') as pdf_file:\n",
        "            pdf_reader = PyPDF2.PdfReader(pdf_file)\n",
        "            pdf_text = ''\n",
        "            for page in pdf_reader.pages:\n",
        "                pdf_text += page.extract_text()\n",
        "\n",
        "        # Check if any reference tags are found\n",
        "        tags_found = [tag for tag in reference_tags if tag.lower() in pdf_text.lower()]\n",
        "        tag_found_status = 'Yes' if tags_found else 'No'\n",
        "\n",
        "        for tag in tags_found:\n",
        "            output_data.append({\n",
        "                'PLANT_CODE': plant_code,\n",
        "                'Filemame': filename,\n",
        "                'Tag Name Found': tag,\n",
        "                'Tag Found (Yes/No)': tag_found_status\n",
        "            })\n",
        "        # Update progress bar for each PDF file\n",
        "        tqdm.write(f\"Processed: {filename}\")\n",
        "\n",
        "# Step 3: Generate an Excel export report\n",
        "df = pd.DataFrame(output_data)\n",
        "df.to_excel(output_file, index=False)\n",
        "print(\"Export report generated successfully.\")"
      ],
      "cell_type": "code",
      "metadata": {
        "colab": {
          "base_uri": "https://localhost:8080/"
        },
        "id": "PYCY6LW2-G_k",
        "outputId": "246064ee-be65-4a2d-8bfa-ed13a8757a5e"
      },
      "execution_count": null,
      "outputs": [
        {
          "output_type": "stream",
          "name": "stdout",
          "text": [
            "Enter the name of the CSV file (e.g., tag_list.csv): tag.csv\n",
            "Enter Plant Code: APX\n",
            "Enter the name of the Excel file (e.g., export_report.xlsx): s.xlsx\n",
            "Processed: linux.pdf\n",
            "Export report generated successfully.\n"
          ]
        }
      ]
    },
    {
      "cell_type": "code",
      "source": [
        "from google.colab import drive\n",
        "drive.mount('/content/drive')"
      ],
      "metadata": {
        "colab": {
          "base_uri": "https://localhost:8080/"
        },
        "id": "gDs-Urie_r-5",
        "outputId": "64595118-78ae-4ab8-f7fa-96b4fa0f87bb"
      },
      "execution_count": null,
      "outputs": [
        {
          "output_type": "stream",
          "name": "stdout",
          "text": [
            "Mounted at /content/drive\n"
          ]
        }
      ]
    },
    {
      "cell_type": "code",
      "source": [
        "pwd"
      ],
      "metadata": {
        "colab": {
          "base_uri": "https://localhost:8080/",
          "height": 35
        },
        "id": "plu5gkSh7T0I",
        "outputId": "fa6d16d9-ddad-498f-a2a5-3d825ad0363a"
      },
      "execution_count": null,
      "outputs": [
        {
          "output_type": "execute_result",
          "data": {
            "text/plain": [
              "'/content'"
            ],
            "application/vnd.google.colaboratory.intrinsic+json": {
              "type": "string"
            }
          },
          "metadata": {},
          "execution_count": 26
        }
      ]
    }
  ]
}